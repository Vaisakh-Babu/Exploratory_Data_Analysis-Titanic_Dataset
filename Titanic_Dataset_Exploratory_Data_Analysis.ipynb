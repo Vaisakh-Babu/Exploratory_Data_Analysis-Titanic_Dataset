{
  "nbformat": 4,
  "nbformat_minor": 0,
  "metadata": {
    "kernelspec": {
      "display_name": "Python 3",
      "language": "python",
      "name": "python3"
    },
    "language_info": {
      "codemirror_mode": {
        "name": "ipython",
        "version": 3
      },
      "file_extension": ".py",
      "mimetype": "text/x-python",
      "name": "python",
      "nbconvert_exporter": "python",
      "pygments_lexer": "ipython3",
      "version": "3.7.6"
    },
    "colab": {
      "name": "Titanic Dataset : Exploratory Data Analysis.ipynb",
      "provenance": [],
      "collapsed_sections": [],
      "include_colab_link": true
    }
  },
  "cells": [
    {
      "cell_type": "markdown",
      "metadata": {
        "id": "view-in-github",
        "colab_type": "text"
      },
      "source": [
        "<a href=\"https://colab.research.google.com/github/Vaisakh-Babu/Exploratory_Data_Analysis-Titanic_Dataset/blob/master/Titanic_Dataset_Exploratory_Data_Analysis.ipynb\" target=\"_parent\"><img src=\"https://colab.research.google.com/assets/colab-badge.svg\" alt=\"Open In Colab\"/></a>"
      ]
    },
    {
      "cell_type": "markdown",
      "metadata": {
        "id": "QCWr2I1vKRsJ",
        "colab_type": "text"
      },
      "source": [
        "# Exploratory Data Analysis : Titanic Dataset\n",
        "## By Vaisakh Babu\n",
        "\n",
        "RMS Titanic was a British passenger liner operated by the White Star Line that sank in the North Atlantic Ocean in the early morning hours of 15 April 1912, after striking an iceberg during her maiden voyage from Southampton to New York City. Of the estimated 2,224 passengers and crew aboard, more than 1,500 died, making the sinking one of modern history's deadliest peacetime commercial marine disasters.[[1]](https://en.wikipedia.org/wiki/RMS_Titanic)"
      ]
    },
    {
      "cell_type": "markdown",
      "metadata": {
        "id": "g51lQNZirpa9",
        "colab_type": "text"
      },
      "source": [
        "# Import the necessary Libraries and Packages:"
      ]
    },
    {
      "cell_type": "code",
      "metadata": {
        "id": "sZlwIxQarpa_",
        "colab_type": "code",
        "colab": {}
      },
      "source": [
        "import pandas as pd\n",
        "import matplotlib.pyplot as plt\n",
        "import numpy as np\n",
        "import seaborn as sns\n",
        "import plotly.express as px\n",
        "import folium\n",
        "%matplotlib inline\n",
        "#from google.colab import drive\n",
        "#drive.mount('Mydrive')"
      ],
      "execution_count": 72,
      "outputs": []
    },
    {
      "cell_type": "markdown",
      "metadata": {
        "id": "7cA6lgNxrpbE",
        "colab_type": "text"
      },
      "source": [
        "# Load the Dataset:"
      ]
    },
    {
      "cell_type": "code",
      "metadata": {
        "id": "gE9moQ1VrpbE",
        "colab_type": "code",
        "colab": {
          "base_uri": "https://localhost:8080/",
          "height": 204
        },
        "outputId": "5e2ecdd9-e886-48a7-f847-85b0588ee711"
      },
      "source": [
        "train=pd.read_csv('https://github.com/Vaisakh-Babu/Exploratory_Data_Analysis-Titanic_Dataset/raw/master/Dataset.csv')\n",
        "train.head()"
      ],
      "execution_count": 73,
      "outputs": [
        {
          "output_type": "execute_result",
          "data": {
            "text/html": [
              "<div>\n",
              "<style scoped>\n",
              "    .dataframe tbody tr th:only-of-type {\n",
              "        vertical-align: middle;\n",
              "    }\n",
              "\n",
              "    .dataframe tbody tr th {\n",
              "        vertical-align: top;\n",
              "    }\n",
              "\n",
              "    .dataframe thead th {\n",
              "        text-align: right;\n",
              "    }\n",
              "</style>\n",
              "<table border=\"1\" class=\"dataframe\">\n",
              "  <thead>\n",
              "    <tr style=\"text-align: right;\">\n",
              "      <th></th>\n",
              "      <th>PassengerId</th>\n",
              "      <th>Survived</th>\n",
              "      <th>Pclass</th>\n",
              "      <th>Name</th>\n",
              "      <th>Sex</th>\n",
              "      <th>Age</th>\n",
              "      <th>SibSp</th>\n",
              "      <th>Parch</th>\n",
              "      <th>Ticket</th>\n",
              "      <th>Fare</th>\n",
              "      <th>Cabin</th>\n",
              "      <th>Embarked</th>\n",
              "    </tr>\n",
              "  </thead>\n",
              "  <tbody>\n",
              "    <tr>\n",
              "      <th>0</th>\n",
              "      <td>1</td>\n",
              "      <td>0</td>\n",
              "      <td>3</td>\n",
              "      <td>Braund, Mr. Owen Harris</td>\n",
              "      <td>male</td>\n",
              "      <td>22.0</td>\n",
              "      <td>1</td>\n",
              "      <td>0</td>\n",
              "      <td>A/5 21171</td>\n",
              "      <td>7.2500</td>\n",
              "      <td>NaN</td>\n",
              "      <td>S</td>\n",
              "    </tr>\n",
              "    <tr>\n",
              "      <th>1</th>\n",
              "      <td>2</td>\n",
              "      <td>1</td>\n",
              "      <td>1</td>\n",
              "      <td>Cumings, Mrs. John Bradley (Florence Briggs Th...</td>\n",
              "      <td>female</td>\n",
              "      <td>38.0</td>\n",
              "      <td>1</td>\n",
              "      <td>0</td>\n",
              "      <td>PC 17599</td>\n",
              "      <td>71.2833</td>\n",
              "      <td>C85</td>\n",
              "      <td>C</td>\n",
              "    </tr>\n",
              "    <tr>\n",
              "      <th>2</th>\n",
              "      <td>3</td>\n",
              "      <td>1</td>\n",
              "      <td>3</td>\n",
              "      <td>Heikkinen, Miss. Laina</td>\n",
              "      <td>female</td>\n",
              "      <td>26.0</td>\n",
              "      <td>0</td>\n",
              "      <td>0</td>\n",
              "      <td>STON/O2. 3101282</td>\n",
              "      <td>7.9250</td>\n",
              "      <td>NaN</td>\n",
              "      <td>S</td>\n",
              "    </tr>\n",
              "    <tr>\n",
              "      <th>3</th>\n",
              "      <td>4</td>\n",
              "      <td>1</td>\n",
              "      <td>1</td>\n",
              "      <td>Futrelle, Mrs. Jacques Heath (Lily May Peel)</td>\n",
              "      <td>female</td>\n",
              "      <td>35.0</td>\n",
              "      <td>1</td>\n",
              "      <td>0</td>\n",
              "      <td>113803</td>\n",
              "      <td>53.1000</td>\n",
              "      <td>C123</td>\n",
              "      <td>S</td>\n",
              "    </tr>\n",
              "    <tr>\n",
              "      <th>4</th>\n",
              "      <td>5</td>\n",
              "      <td>0</td>\n",
              "      <td>3</td>\n",
              "      <td>Allen, Mr. William Henry</td>\n",
              "      <td>male</td>\n",
              "      <td>35.0</td>\n",
              "      <td>0</td>\n",
              "      <td>0</td>\n",
              "      <td>373450</td>\n",
              "      <td>8.0500</td>\n",
              "      <td>NaN</td>\n",
              "      <td>S</td>\n",
              "    </tr>\n",
              "  </tbody>\n",
              "</table>\n",
              "</div>"
            ],
            "text/plain": [
              "   PassengerId  Survived  Pclass  ...     Fare Cabin  Embarked\n",
              "0            1         0       3  ...   7.2500   NaN         S\n",
              "1            2         1       1  ...  71.2833   C85         C\n",
              "2            3         1       3  ...   7.9250   NaN         S\n",
              "3            4         1       1  ...  53.1000  C123         S\n",
              "4            5         0       3  ...   8.0500   NaN         S\n",
              "\n",
              "[5 rows x 12 columns]"
            ]
          },
          "metadata": {
            "tags": []
          },
          "execution_count": 73
        }
      ]
    },
    {
      "cell_type": "code",
      "metadata": {
        "id": "gIUiSVdUxMwT",
        "colab_type": "code",
        "colab": {
          "base_uri": "https://localhost:8080/",
          "height": 359
        },
        "outputId": "e7c10ad1-5521-42e3-de65-ede68fab8f08"
      },
      "source": [
        "train.info()"
      ],
      "execution_count": 74,
      "outputs": [
        {
          "output_type": "stream",
          "text": [
            "<class 'pandas.core.frame.DataFrame'>\n",
            "RangeIndex: 891 entries, 0 to 890\n",
            "Data columns (total 12 columns):\n",
            " #   Column       Non-Null Count  Dtype  \n",
            "---  ------       --------------  -----  \n",
            " 0   PassengerId  891 non-null    int64  \n",
            " 1   Survived     891 non-null    int64  \n",
            " 2   Pclass       891 non-null    int64  \n",
            " 3   Name         891 non-null    object \n",
            " 4   Sex          891 non-null    object \n",
            " 5   Age          714 non-null    float64\n",
            " 6   SibSp        891 non-null    int64  \n",
            " 7   Parch        891 non-null    int64  \n",
            " 8   Ticket       891 non-null    object \n",
            " 9   Fare         891 non-null    float64\n",
            " 10  Cabin        204 non-null    object \n",
            " 11  Embarked     889 non-null    object \n",
            "dtypes: float64(2), int64(5), object(5)\n",
            "memory usage: 83.7+ KB\n"
          ],
          "name": "stdout"
        }
      ]
    },
    {
      "cell_type": "markdown",
      "metadata": {
        "id": "lxgR-eRlMEsn",
        "colab_type": "text"
      },
      "source": [
        "Our dataset has 12 columns and 891 records.Some columns have null values in our data. Let's check the percentage of non-null values,"
      ]
    },
    {
      "cell_type": "code",
      "metadata": {
        "id": "nwRik2ZZRrES",
        "colab_type": "code",
        "colab": {
          "base_uri": "https://localhost:8080/",
          "height": 80
        },
        "outputId": "70e51f06-11b5-4a47-f544-71b578366854"
      },
      "source": [
        "pd.DataFrame(((891-train.isnull().sum())/891)*100 , columns=['Coverage']).T"
      ],
      "execution_count": 75,
      "outputs": [
        {
          "output_type": "execute_result",
          "data": {
            "text/html": [
              "<div>\n",
              "<style scoped>\n",
              "    .dataframe tbody tr th:only-of-type {\n",
              "        vertical-align: middle;\n",
              "    }\n",
              "\n",
              "    .dataframe tbody tr th {\n",
              "        vertical-align: top;\n",
              "    }\n",
              "\n",
              "    .dataframe thead th {\n",
              "        text-align: right;\n",
              "    }\n",
              "</style>\n",
              "<table border=\"1\" class=\"dataframe\">\n",
              "  <thead>\n",
              "    <tr style=\"text-align: right;\">\n",
              "      <th></th>\n",
              "      <th>PassengerId</th>\n",
              "      <th>Survived</th>\n",
              "      <th>Pclass</th>\n",
              "      <th>Name</th>\n",
              "      <th>Sex</th>\n",
              "      <th>Age</th>\n",
              "      <th>SibSp</th>\n",
              "      <th>Parch</th>\n",
              "      <th>Ticket</th>\n",
              "      <th>Fare</th>\n",
              "      <th>Cabin</th>\n",
              "      <th>Embarked</th>\n",
              "    </tr>\n",
              "  </thead>\n",
              "  <tbody>\n",
              "    <tr>\n",
              "      <th>Coverage</th>\n",
              "      <td>100.0</td>\n",
              "      <td>100.0</td>\n",
              "      <td>100.0</td>\n",
              "      <td>100.0</td>\n",
              "      <td>100.0</td>\n",
              "      <td>80.13468</td>\n",
              "      <td>100.0</td>\n",
              "      <td>100.0</td>\n",
              "      <td>100.0</td>\n",
              "      <td>100.0</td>\n",
              "      <td>22.895623</td>\n",
              "      <td>99.775533</td>\n",
              "    </tr>\n",
              "  </tbody>\n",
              "</table>\n",
              "</div>"
            ],
            "text/plain": [
              "          PassengerId  Survived  Pclass  ...   Fare      Cabin   Embarked\n",
              "Coverage        100.0     100.0   100.0  ...  100.0  22.895623  99.775533\n",
              "\n",
              "[1 rows x 12 columns]"
            ]
          },
          "metadata": {
            "tags": []
          },
          "execution_count": 75
        }
      ]
    },
    {
      "cell_type": "code",
      "metadata": {
        "id": "7Ga8MxXnLhIa",
        "colab_type": "code",
        "colab": {
          "base_uri": "https://localhost:8080/",
          "height": 483
        },
        "outputId": "fb99dc66-7be2-430d-8774-fa59d962d5f2"
      },
      "source": [
        "pd.DataFrame(((891-train.isnull().sum())/891)*100 , columns=['Coverage']).plot( kind = 'bar',figsize=(14,8),rot='horizontal')\n",
        "plt.show()"
      ],
      "execution_count": 76,
      "outputs": [
        {
          "output_type": "display_data",
          "data": {
            "image/png": "[encoded data removed]",
            "text/plain": [
              "<Figure size 1008x576 with 1 Axes>"
            ]
          },
          "metadata": {
            "tags": [],
            "needs_background": "light"
          }
        }
      ]
    },
    {
      "cell_type": "markdown",
      "metadata": {
        "id": "73QfiPHdZfML",
        "colab_type": "text"
      },
      "source": [
        "All the columns except Age, Cabin and Embarked have a 100% coverage. Embarked column can be consider as 100% since its coverage is 99.78% which very closer to 100%. Cabin column has the least coverage, which is 22.9%. And column Age have a coverage of 80.13%."
      ]
    },
    {
      "cell_type": "markdown",
      "metadata": {
        "id": "M8IVEpu5rpbJ",
        "colab_type": "text"
      },
      "source": [
        "# Univariate EDA:"
      ]
    },
    {
      "cell_type": "markdown",
      "metadata": {
        "id": "kJtR1ZQic3gG",
        "colab_type": "text"
      },
      "source": [
        "In our dataset we have 12 columns."
      ]
    },
    {
      "cell_type": "code",
      "metadata": {
        "id": "qt_adyi4bY5J",
        "colab_type": "code",
        "colab": {
          "base_uri": "https://localhost:8080/",
          "height": 71
        },
        "outputId": "49770ee5-36d8-4eeb-e7f6-201058a8dede"
      },
      "source": [
        "train.columns.to_list"
      ],
      "execution_count": 77,
      "outputs": [
        {
          "output_type": "execute_result",
          "data": {
            "text/plain": [
              "<bound method IndexOpsMixin.tolist of Index(['PassengerId', 'Survived', 'Pclass', 'Name', 'Sex', 'Age', 'SibSp',\n",
              "       'Parch', 'Ticket', 'Fare', 'Cabin', 'Embarked'],\n",
              "      dtype='object')>"
            ]
          },
          "metadata": {
            "tags": []
          },
          "execution_count": 77
        }
      ]
    },
    {
      "cell_type": "markdown",
      "metadata": {
        "id": "d_HTnWcDbW1S",
        "colab_type": "text"
      },
      "source": [
        "\n",
        "\n",
        "\n",
        ">Our analysis will be mainely based on the columns\n",
        "1. Survived\n",
        "2. Pclass\n",
        "3. Sex\n",
        "4. Age\n",
        "5. Embarked\n",
        "6. Fare"
      ]
    },
    {
      "cell_type": "markdown",
      "metadata": {
        "id": "qJZdb9qgpVvs",
        "colab_type": "text"
      },
      "source": [
        "###Categories of passengers\n",
        ">Passengers are catogorised into three using the column \"Pclass\"\n",
        "1. --> 1st Class\n",
        "2. --> 2nd Class\n",
        "3. --> 3rd Class\n"
      ]
    },
    {
      "cell_type": "code",
      "metadata": {
        "id": "ESrPxFW-wHwg",
        "colab_type": "code",
        "colab": {
          "base_uri": "https://localhost:8080/",
          "height": 142
        },
        "outputId": "5eeb7e8c-0577-4fcd-b719-6d4ac662cb1f"
      },
      "source": [
        "t1 = train.Pclass.value_counts().to_frame().reset_index()\n",
        "t1"
      ],
      "execution_count": 78,
      "outputs": [
        {
          "output_type": "execute_result",
          "data": {
            "text/html": [
              "<div>\n",
              "<style scoped>\n",
              "    .dataframe tbody tr th:only-of-type {\n",
              "        vertical-align: middle;\n",
              "    }\n",
              "\n",
              "    .dataframe tbody tr th {\n",
              "        vertical-align: top;\n",
              "    }\n",
              "\n",
              "    .dataframe thead th {\n",
              "        text-align: right;\n",
              "    }\n",
              "</style>\n",
              "<table border=\"1\" class=\"dataframe\">\n",
              "  <thead>\n",
              "    <tr style=\"text-align: right;\">\n",
              "      <th></th>\n",
              "      <th>index</th>\n",
              "      <th>Pclass</th>\n",
              "    </tr>\n",
              "  </thead>\n",
              "  <tbody>\n",
              "    <tr>\n",
              "      <th>0</th>\n",
              "      <td>3</td>\n",
              "      <td>491</td>\n",
              "    </tr>\n",
              "    <tr>\n",
              "      <th>1</th>\n",
              "      <td>1</td>\n",
              "      <td>216</td>\n",
              "    </tr>\n",
              "    <tr>\n",
              "      <th>2</th>\n",
              "      <td>2</td>\n",
              "      <td>184</td>\n",
              "    </tr>\n",
              "  </tbody>\n",
              "</table>\n",
              "</div>"
            ],
            "text/plain": [
              "   index  Pclass\n",
              "0      3     491\n",
              "1      1     216\n",
              "2      2     184"
            ]
          },
          "metadata": {
            "tags": []
          },
          "execution_count": 78
        }
      ]
    },
    {
      "cell_type": "code",
      "metadata": {
        "id": "uHQE4XXfosBj",
        "colab_type": "code",
        "colab": {
          "base_uri": "https://localhost:8080/",
          "height": 466
        },
        "outputId": "88ae9092-9d1e-4276-b321-0db4e2bec2e8"
      },
      "source": [
        "ax = train.Pclass.value_counts().plot(kind = 'pie', rot = 'horizontal', figsize = (8,8),explode = (0, 0, 0.1), shadow=True, labels=t1.index, autopct='%1.0f%%')\n",
        "ax.legend(['3rd','1st','2nd'], title=\"Pclass\", loc=\"center left\", bbox_to_anchor=(1, 0, 0.5, 1));"
      ],
      "execution_count": 79,
      "outputs": [
        {
          "output_type": "display_data",
          "data": {
            "image/png": "[encoded data removed]",
            "text/plain": [
              "<Figure size 576x576 with 1 Axes>"
            ]
          },
          "metadata": {
            "tags": []
          }
        }
      ]
    },
    {
      "cell_type": "markdown",
      "metadata": {
        "id": "bkVmb2bk5ZEe",
        "colab_type": "text"
      },
      "source": [
        "We can see that more than half of the passengers(55%) are in 3rd class. 2nd class passengers are the least, that is 21%."
      ]
    },
    {
      "cell_type": "markdown",
      "metadata": {
        "id": "NQWsQ-Hh9ip5",
        "colab_type": "text"
      },
      "source": [
        "###Gender of Passengers"
      ]
    },
    {
      "cell_type": "code",
      "metadata": {
        "id": "0OumUcje9Cgq",
        "colab_type": "code",
        "colab": {
          "base_uri": "https://localhost:8080/",
          "height": 111
        },
        "outputId": "7b801ae1-eef4-44ba-d841-c5727368cae0"
      },
      "source": [
        "t2 = train.Sex.value_counts().to_frame().reset_index()\n",
        "t2"
      ],
      "execution_count": 80,
      "outputs": [
        {
          "output_type": "execute_result",
          "data": {
            "text/html": [
              "<div>\n",
              "<style scoped>\n",
              "    .dataframe tbody tr th:only-of-type {\n",
              "        vertical-align: middle;\n",
              "    }\n",
              "\n",
              "    .dataframe tbody tr th {\n",
              "        vertical-align: top;\n",
              "    }\n",
              "\n",
              "    .dataframe thead th {\n",
              "        text-align: right;\n",
              "    }\n",
              "</style>\n",
              "<table border=\"1\" class=\"dataframe\">\n",
              "  <thead>\n",
              "    <tr style=\"text-align: right;\">\n",
              "      <th></th>\n",
              "      <th>index</th>\n",
              "      <th>Sex</th>\n",
              "    </tr>\n",
              "  </thead>\n",
              "  <tbody>\n",
              "    <tr>\n",
              "      <th>0</th>\n",
              "      <td>male</td>\n",
              "      <td>577</td>\n",
              "    </tr>\n",
              "    <tr>\n",
              "      <th>1</th>\n",
              "      <td>female</td>\n",
              "      <td>314</td>\n",
              "    </tr>\n",
              "  </tbody>\n",
              "</table>\n",
              "</div>"
            ],
            "text/plain": [
              "    index  Sex\n",
              "0    male  577\n",
              "1  female  314"
            ]
          },
          "metadata": {
            "tags": []
          },
          "execution_count": 80
        }
      ]
    },
    {
      "cell_type": "code",
      "metadata": {
        "id": "-tvphGiC-Ids",
        "colab_type": "code",
        "colab": {
          "base_uri": "https://localhost:8080/",
          "height": 466
        },
        "outputId": "3596b664-819d-4833-d69c-10e850570984"
      },
      "source": [
        "ax = train.Sex.value_counts().plot(kind = 'pie', rot = 'horizontal', figsize = (8,8),explode = (0, 0.1), shadow=True, labels=t2.index, autopct='%1.0f%%')\n",
        "ax.legend(['Male','Female'],title=\"Sex\", loc=\"center left\", bbox_to_anchor=(1, 0, 0.5, 1));"
      ],
      "execution_count": 81,
      "outputs": [
        {
          "output_type": "display_data",
          "data": {
            "image/png": "[encoded data removed]",
            "text/plain": [
              "<Figure size 576x576 with 1 Axes>"
            ]
          },
          "metadata": {
            "tags": []
          }
        }
      ]
    },
    {
      "cell_type": "markdown",
      "metadata": {
        "id": "_9tZoGF7_l-U",
        "colab_type": "text"
      },
      "source": [
        "Around 65% of the passengers are males in our dataset.\n"
      ]
    },
    {
      "cell_type": "markdown",
      "metadata": {
        "id": "yfmoDUBnk3sl",
        "colab_type": "text"
      },
      "source": [
        "###Age Distribution\n"
      ]
    },
    {
      "cell_type": "code",
      "metadata": {
        "id": "zE1xPlsmM6qP",
        "colab_type": "code",
        "colab": {
          "base_uri": "https://localhost:8080/",
          "height": 483
        },
        "outputId": "147d6b81-13c6-43c3-802f-dbca9e90da2c"
      },
      "source": [
        "train.Age.plot(kind='hist',figsize=(16,8), bins=80);"
      ],
      "execution_count": 82,
      "outputs": [
        {
          "output_type": "display_data",
          "data": {
            "image/png": "[encoded data removed]",
            "text/plain": [
              "<Figure size 1152x576 with 1 Axes>"
            ]
          },
          "metadata": {
            "tags": [],
            "needs_background": "light"
          }
        }
      ]
    },
    {
      "cell_type": "markdown",
      "metadata": {
        "id": "pFw5sgqErpbJ",
        "colab_type": "text"
      },
      "source": [
        "## What is the Count of Survived vs Not Survived?"
      ]
    },
    {
      "cell_type": "code",
      "metadata": {
        "id": "NhikzIjOrpbK",
        "colab_type": "code",
        "colab": {
          "base_uri": "https://localhost:8080/",
          "height": 142
        },
        "outputId": "4837955e-97e6-453f-8d3f-105ccf8e74d8"
      },
      "source": [
        "train.groupby('Survived').agg({'PassengerId':'count'})"
      ],
      "execution_count": 83,
      "outputs": [
        {
          "output_type": "execute_result",
          "data": {
            "text/html": [
              "<div>\n",
              "<style scoped>\n",
              "    .dataframe tbody tr th:only-of-type {\n",
              "        vertical-align: middle;\n",
              "    }\n",
              "\n",
              "    .dataframe tbody tr th {\n",
              "        vertical-align: top;\n",
              "    }\n",
              "\n",
              "    .dataframe thead th {\n",
              "        text-align: right;\n",
              "    }\n",
              "</style>\n",
              "<table border=\"1\" class=\"dataframe\">\n",
              "  <thead>\n",
              "    <tr style=\"text-align: right;\">\n",
              "      <th></th>\n",
              "      <th>PassengerId</th>\n",
              "    </tr>\n",
              "    <tr>\n",
              "      <th>Survived</th>\n",
              "      <th></th>\n",
              "    </tr>\n",
              "  </thead>\n",
              "  <tbody>\n",
              "    <tr>\n",
              "      <th>0</th>\n",
              "      <td>549</td>\n",
              "    </tr>\n",
              "    <tr>\n",
              "      <th>1</th>\n",
              "      <td>342</td>\n",
              "    </tr>\n",
              "  </tbody>\n",
              "</table>\n",
              "</div>"
            ],
            "text/plain": [
              "          PassengerId\n",
              "Survived             \n",
              "0                 549\n",
              "1                 342"
            ]
          },
          "metadata": {
            "tags": []
          },
          "execution_count": 83
        }
      ]
    },
    {
      "cell_type": "markdown",
      "metadata": {
        "id": "MmSs9b11l78F",
        "colab_type": "text"
      },
      "source": [
        ">In the column named Survived, the values will be either 0 or 1. \n",
        "0. --> Not Survived\n",
        "1. --> Survived\n",
        "In our dataset, we have a survival rate of 342/891 = 0.3838\n",
        "That is 38.39%."
      ]
    },
    {
      "cell_type": "markdown",
      "metadata": {
        "id": "0yApj82rrpbO",
        "colab_type": "text"
      },
      "source": [
        "## Find out the Numerical Columns Basic Statistics:"
      ]
    },
    {
      "cell_type": "code",
      "metadata": {
        "id": "f46K0he0rpbP",
        "colab_type": "code",
        "colab": {
          "base_uri": "https://localhost:8080/",
          "height": 421
        },
        "outputId": "b7411052-1c53-40d9-c809-55512da1c2f2"
      },
      "source": [
        "train.describe(include ='all').T"
      ],
      "execution_count": 84,
      "outputs": [
        {
          "output_type": "execute_result",
          "data": {
            "text/html": [
              "<div>\n",
              "<style scoped>\n",
              "    .dataframe tbody tr th:only-of-type {\n",
              "        vertical-align: middle;\n",
              "    }\n",
              "\n",
              "    .dataframe tbody tr th {\n",
              "        vertical-align: top;\n",
              "    }\n",
              "\n",
              "    .dataframe thead th {\n",
              "        text-align: right;\n",
              "    }\n",
              "</style>\n",
              "<table border=\"1\" class=\"dataframe\">\n",
              "  <thead>\n",
              "    <tr style=\"text-align: right;\">\n",
              "      <th></th>\n",
              "      <th>count</th>\n",
              "      <th>unique</th>\n",
              "      <th>top</th>\n",
              "      <th>freq</th>\n",
              "      <th>mean</th>\n",
              "      <th>std</th>\n",
              "      <th>min</th>\n",
              "      <th>25%</th>\n",
              "      <th>50%</th>\n",
              "      <th>75%</th>\n",
              "      <th>max</th>\n",
              "    </tr>\n",
              "  </thead>\n",
              "  <tbody>\n",
              "    <tr>\n",
              "      <th>PassengerId</th>\n",
              "      <td>891</td>\n",
              "      <td>NaN</td>\n",
              "      <td>NaN</td>\n",
              "      <td>NaN</td>\n",
              "      <td>446</td>\n",
              "      <td>257.354</td>\n",
              "      <td>1</td>\n",
              "      <td>223.5</td>\n",
              "      <td>446</td>\n",
              "      <td>668.5</td>\n",
              "      <td>891</td>\n",
              "    </tr>\n",
              "    <tr>\n",
              "      <th>Survived</th>\n",
              "      <td>891</td>\n",
              "      <td>NaN</td>\n",
              "      <td>NaN</td>\n",
              "      <td>NaN</td>\n",
              "      <td>0.383838</td>\n",
              "      <td>0.486592</td>\n",
              "      <td>0</td>\n",
              "      <td>0</td>\n",
              "      <td>0</td>\n",
              "      <td>1</td>\n",
              "      <td>1</td>\n",
              "    </tr>\n",
              "    <tr>\n",
              "      <th>Pclass</th>\n",
              "      <td>891</td>\n",
              "      <td>NaN</td>\n",
              "      <td>NaN</td>\n",
              "      <td>NaN</td>\n",
              "      <td>2.30864</td>\n",
              "      <td>0.836071</td>\n",
              "      <td>1</td>\n",
              "      <td>2</td>\n",
              "      <td>3</td>\n",
              "      <td>3</td>\n",
              "      <td>3</td>\n",
              "    </tr>\n",
              "    <tr>\n",
              "      <th>Name</th>\n",
              "      <td>891</td>\n",
              "      <td>891</td>\n",
              "      <td>Trout, Mrs. William H (Jessie L)</td>\n",
              "      <td>1</td>\n",
              "      <td>NaN</td>\n",
              "      <td>NaN</td>\n",
              "      <td>NaN</td>\n",
              "      <td>NaN</td>\n",
              "      <td>NaN</td>\n",
              "      <td>NaN</td>\n",
              "      <td>NaN</td>\n",
              "    </tr>\n",
              "    <tr>\n",
              "      <th>Sex</th>\n",
              "      <td>891</td>\n",
              "      <td>2</td>\n",
              "      <td>male</td>\n",
              "      <td>577</td>\n",
              "      <td>NaN</td>\n",
              "      <td>NaN</td>\n",
              "      <td>NaN</td>\n",
              "      <td>NaN</td>\n",
              "      <td>NaN</td>\n",
              "      <td>NaN</td>\n",
              "      <td>NaN</td>\n",
              "    </tr>\n",
              "    <tr>\n",
              "      <th>Age</th>\n",
              "      <td>714</td>\n",
              "      <td>NaN</td>\n",
              "      <td>NaN</td>\n",
              "      <td>NaN</td>\n",
              "      <td>29.6991</td>\n",
              "      <td>14.5265</td>\n",
              "      <td>0.42</td>\n",
              "      <td>20.125</td>\n",
              "      <td>28</td>\n",
              "      <td>38</td>\n",
              "      <td>80</td>\n",
              "    </tr>\n",
              "    <tr>\n",
              "      <th>SibSp</th>\n",
              "      <td>891</td>\n",
              "      <td>NaN</td>\n",
              "      <td>NaN</td>\n",
              "      <td>NaN</td>\n",
              "      <td>0.523008</td>\n",
              "      <td>1.10274</td>\n",
              "      <td>0</td>\n",
              "      <td>0</td>\n",
              "      <td>0</td>\n",
              "      <td>1</td>\n",
              "      <td>8</td>\n",
              "    </tr>\n",
              "    <tr>\n",
              "      <th>Parch</th>\n",
              "      <td>891</td>\n",
              "      <td>NaN</td>\n",
              "      <td>NaN</td>\n",
              "      <td>NaN</td>\n",
              "      <td>0.381594</td>\n",
              "      <td>0.806057</td>\n",
              "      <td>0</td>\n",
              "      <td>0</td>\n",
              "      <td>0</td>\n",
              "      <td>0</td>\n",
              "      <td>6</td>\n",
              "    </tr>\n",
              "    <tr>\n",
              "      <th>Ticket</th>\n",
              "      <td>891</td>\n",
              "      <td>681</td>\n",
              "      <td>CA. 2343</td>\n",
              "      <td>7</td>\n",
              "      <td>NaN</td>\n",
              "      <td>NaN</td>\n",
              "      <td>NaN</td>\n",
              "      <td>NaN</td>\n",
              "      <td>NaN</td>\n",
              "      <td>NaN</td>\n",
              "      <td>NaN</td>\n",
              "    </tr>\n",
              "    <tr>\n",
              "      <th>Fare</th>\n",
              "      <td>891</td>\n",
              "      <td>NaN</td>\n",
              "      <td>NaN</td>\n",
              "      <td>NaN</td>\n",
              "      <td>32.2042</td>\n",
              "      <td>49.6934</td>\n",
              "      <td>0</td>\n",
              "      <td>7.9104</td>\n",
              "      <td>14.4542</td>\n",
              "      <td>31</td>\n",
              "      <td>512.329</td>\n",
              "    </tr>\n",
              "    <tr>\n",
              "      <th>Cabin</th>\n",
              "      <td>204</td>\n",
              "      <td>147</td>\n",
              "      <td>G6</td>\n",
              "      <td>4</td>\n",
              "      <td>NaN</td>\n",
              "      <td>NaN</td>\n",
              "      <td>NaN</td>\n",
              "      <td>NaN</td>\n",
              "      <td>NaN</td>\n",
              "      <td>NaN</td>\n",
              "      <td>NaN</td>\n",
              "    </tr>\n",
              "    <tr>\n",
              "      <th>Embarked</th>\n",
              "      <td>889</td>\n",
              "      <td>3</td>\n",
              "      <td>S</td>\n",
              "      <td>644</td>\n",
              "      <td>NaN</td>\n",
              "      <td>NaN</td>\n",
              "      <td>NaN</td>\n",
              "      <td>NaN</td>\n",
              "      <td>NaN</td>\n",
              "      <td>NaN</td>\n",
              "      <td>NaN</td>\n",
              "    </tr>\n",
              "  </tbody>\n",
              "</table>\n",
              "</div>"
            ],
            "text/plain": [
              "            count unique  ...    75%      max\n",
              "PassengerId   891    NaN  ...  668.5      891\n",
              "Survived      891    NaN  ...      1        1\n",
              "Pclass        891    NaN  ...      3        3\n",
              "Name          891    891  ...    NaN      NaN\n",
              "Sex           891      2  ...    NaN      NaN\n",
              "Age           714    NaN  ...     38       80\n",
              "SibSp         891    NaN  ...      1        8\n",
              "Parch         891    NaN  ...      0        6\n",
              "Ticket        891    681  ...    NaN      NaN\n",
              "Fare          891    NaN  ...     31  512.329\n",
              "Cabin         204    147  ...    NaN      NaN\n",
              "Embarked      889      3  ...    NaN      NaN\n",
              "\n",
              "[12 rows x 11 columns]"
            ]
          },
          "metadata": {
            "tags": []
          },
          "execution_count": 84
        }
      ]
    },
    {
      "cell_type": "markdown",
      "metadata": {
        "id": "Mo14MJSgrpbT",
        "colab_type": "text"
      },
      "source": [
        "## Visualize Survived vs Not Survived:"
      ]
    },
    {
      "cell_type": "code",
      "metadata": {
        "id": "aS8OIZS7N9qu",
        "colab_type": "code",
        "colab": {
          "base_uri": "https://localhost:8080/",
          "height": 483
        },
        "outputId": "51568d15-beb3-45bf-89fb-400b2a82d353"
      },
      "source": [
        "train.Survived.value_counts().plot(kind='bar',figsize=(10,8),rot='horizontal');"
      ],
      "execution_count": 85,
      "outputs": [
        {
          "output_type": "display_data",
          "data": {
            "image/png": "[encoded data removed]",
            "text/plain": [
              "<Figure size 720x576 with 1 Axes>"
            ]
          },
          "metadata": {
            "tags": [],
            "needs_background": "light"
          }
        }
      ]
    },
    {
      "cell_type": "markdown",
      "metadata": {
        "id": "QAZLQTPesNYT",
        "colab_type": "text"
      },
      "source": [
        "There is a 38.39% survival rate."
      ]
    },
    {
      "cell_type": "markdown",
      "metadata": {
        "id": "W8XA1k07rpbX",
        "colab_type": "text"
      },
      "source": [
        "## Visual EDA for single Categorical Column: \"Embarked\""
      ]
    },
    {
      "cell_type": "code",
      "metadata": {
        "id": "cE9Qayimsgiu",
        "colab_type": "code",
        "colab": {
          "base_uri": "https://localhost:8080/",
          "height": 483
        },
        "outputId": "46012b27-1abe-4c42-f268-33f6df839e11"
      },
      "source": [
        "train.Embarked.value_counts().plot(kind='bar',figsize=(10,8),rot ='horizontal');"
      ],
      "execution_count": 86,
      "outputs": [
        {
          "output_type": "display_data",
          "data": {
            "image/png": "[encoded data removed]",
            "text/plain": [
              "<Figure size 720x576 with 1 Axes>"
            ]
          },
          "metadata": {
            "tags": [],
            "needs_background": "light"
          }
        }
      ]
    },
    {
      "cell_type": "markdown",
      "metadata": {
        "id": "5ySv4-8S-62l",
        "colab_type": "text"
      },
      "source": [
        "Most number of people had Embarked from Queenstown(Port of Cobh)."
      ]
    },
    {
      "cell_type": "code",
      "metadata": {
        "id": "IrJlKWSZ7z2k",
        "colab_type": "code",
        "colab": {
          "base_uri": "https://localhost:8080/",
          "height": 1000
        },
        "outputId": "658ca925-ade5-4607-ae1a-920b1f4a8997"
      },
      "source": [
        "import folium\n",
        "m = folium.Map(\n",
        "    location=[41.732500, -49.946889],\n",
        "    zoom_start=4,\n",
        "    tiles='Stamen Terrain',\n",
        "    width=1500, height=1000\n",
        ")\n",
        "#C\n",
        "folium.Marker(\n",
        "    location=[49.644577,-1.605079],\n",
        "    popup='Cherbourg'\n",
        ").add_to(m)\n",
        "#Q\n",
        "folium.Marker(\n",
        "    location=[51.84914,-8.2975265],\n",
        "    popup='Queenstown' ,\n",
        "    icon=folium.Icon(color='red')\n",
        ").add_to(m)\n",
        "#S\n",
        "folium.Marker(\n",
        "    location=[50.8965, -1.3968],\n",
        "    popup='Southampton'\n",
        ").add_to(m)\n",
        "folium.Marker(\n",
        "    location=[41.732500, -49.946889],\n",
        "    popup='Spot where Titanic sank in 1912' ,\n",
        "    icon=folium.Icon(color='green')\n",
        ").add_to(m)\n",
        "m"
      ],
      "execution_count": 87,
      "outputs": [
        {
          "output_type": "execute_result",
          "data": {
            "text/html": [
              "<div style=\"width:100%;\"><div style=\"position:relative;width:100%;height:0;padding-bottom:60%;\"><span style=\"color:#565656\">Make this Notebook Trusted to load map: File -> Trust Notebook</span><iframe src=\"about:blank\" style=\"position:absolute;width:100%;height:100%;left:0;top:0;border:none !important;\" data-html=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 onload=\"this.contentDocument.open();this.contentDocument.write(atob(this.getAttribute('data-html')));this.contentDocument.close();\" allowfullscreen webkitallowfullscreen mozallowfullscreen></iframe></div></div>"
            ],
            "text/plain": [
              "<folium.folium.Map at 0x7f82cd49a748>"
            ]
          },
          "metadata": {
            "tags": []
          },
          "execution_count": 87
        }
      ]
    },
    {
      "cell_type": "markdown",
      "metadata": {
        "id": "blIesaHnrpbd",
        "colab_type": "text"
      },
      "source": [
        "## Visual EDA for single Continuous Column: \"Fare\" using Distribution Plot"
      ]
    },
    {
      "cell_type": "code",
      "metadata": {
        "id": "OXxoUF-frpbe",
        "colab_type": "code",
        "colab": {
          "base_uri": "https://localhost:8080/",
          "height": 592
        },
        "outputId": "c433ef16-15e8-4276-c00a-b54fae0730e0"
      },
      "source": [
        "plt.figure(figsize=(10,10))\n",
        "plt.hist(x = train['Fare']);"
      ],
      "execution_count": 88,
      "outputs": [
        {
          "output_type": "display_data",
          "data": {
            "image/png": "[encoded data removed]",
            "text/plain": [
              "<Figure size 720x720 with 1 Axes>"
            ]
          },
          "metadata": {
            "tags": [],
            "needs_background": "light"
          }
        }
      ]
    },
    {
      "cell_type": "markdown",
      "metadata": {
        "id": "l0Dy1rt8DzHr",
        "colab_type": "text"
      },
      "source": [
        "Column named Fare will indicate the ticket price. We can see that, most of the fare comes under 100$"
      ]
    },
    {
      "cell_type": "code",
      "metadata": {
        "id": "lta8xXbeE7lt",
        "colab_type": "code",
        "colab": {
          "base_uri": "https://localhost:8080/",
          "height": 71
        },
        "outputId": "22b9d5c6-8fe0-4129-d4e6-b688013f4347"
      },
      "source": [
        "print(\"Ticket fare below 50 :-  \" +\n",
        "      str(train.query('Fare <= 50').shape[0]))\n",
        "print(\"Ticket fare between 50 and 100 :-  \" +\n",
        "      str(train.query('Fare > 50 & Fare <= 100').shape[0]))\n",
        "print(\"Ticket fare greater than 100 :-  \" +\n",
        "      str(train.query('Fare > 100').shape[0]))"
      ],
      "execution_count": 89,
      "outputs": [
        {
          "output_type": "stream",
          "text": [
            "Ticket fare below 50 :-  731\n",
            "Ticket fare between 50 and 100 :-  107\n",
            "Ticket fare greater than 100 :-  53\n"
          ],
          "name": "stdout"
        }
      ]
    },
    {
      "cell_type": "markdown",
      "metadata": {
        "id": "LRJnafYNGSTF",
        "colab_type": "text"
      },
      "source": [
        "731 passengers paid a ticket fare less than 50$. That is about 84% of the passengers."
      ]
    },
    {
      "cell_type": "markdown",
      "metadata": {
        "id": "ri51NOHarpbi",
        "colab_type": "text"
      },
      "source": [
        "## Visual EDA for single Continuous Column: \"Fare\" using KDE(Kernel Density Estimation) Plot"
      ]
    },
    {
      "cell_type": "code",
      "metadata": {
        "id": "rnS4vHCtrpbi",
        "colab_type": "code",
        "colab": {
          "base_uri": "https://localhost:8080/",
          "height": 483
        },
        "outputId": "13365217-4909-4e23-f5e6-0a14ff620afc"
      },
      "source": [
        "plt.figure(figsize=(10,8))\n",
        "sns.kdeplot(train['Fare'], shade=True, color=\"r\");"
      ],
      "execution_count": 90,
      "outputs": [
        {
          "output_type": "display_data",
          "data": {
            "image/png": "[encoded data removed]",
            "text/plain": [
              "<Figure size 720x576 with 1 Axes>"
            ]
          },
          "metadata": {
            "tags": [],
            "needs_background": "light"
          }
        }
      ]
    },
    {
      "cell_type": "markdown",
      "metadata": {
        "id": "1VCPApIhrpbm",
        "colab_type": "text"
      },
      "source": [
        "# Bivariate EDA:"
      ]
    },
    {
      "cell_type": "markdown",
      "metadata": {
        "id": "b4kzgxW_rpbm",
        "colab_type": "text"
      },
      "source": [
        "##  What is the count of Males and Females Survived and Not Survived in each Class?"
      ]
    },
    {
      "cell_type": "markdown",
      "metadata": {
        "id": "xk9AWWYji1EQ",
        "colab_type": "text"
      },
      "source": [
        "We can see the number of survived and not survived for each class by their gender."
      ]
    },
    {
      "cell_type": "code",
      "metadata": {
        "id": "6FQTkOPkrpbn",
        "colab_type": "code",
        "colab": {
          "base_uri": "https://localhost:8080/",
          "height": 297
        },
        "outputId": "d03e2d48-9a59-4ba6-f115-24f2c44b5106"
      },
      "source": [
        "g = sns.catplot(x=\"Survived\", hue=\"Sex\", col=\"Pclass\", data=train, kind=\"count\", height=4, aspect=.7)"
      ],
      "execution_count": 91,
      "outputs": [
        {
          "output_type": "display_data",
          "data": {
            "image/png": "[encoded data removed]",
            "text/plain": [
              "<Figure size 675.3x288 with 3 Axes>"
            ]
          },
          "metadata": {
            "tags": [],
            "needs_background": "light"
          }
        }
      ]
    },
    {
      "cell_type": "markdown",
      "metadata": {
        "id": "JSiuy_HWiydF",
        "colab_type": "text"
      },
      "source": [
        "The most number of survived passengers are 1st class Females. And the most number of not survived passengers are 3rd class males.\n",
        ">We can see that, In all the classes \n",
        "1. females have the highest count of surviving, and\n",
        "2. males have the highest count of not surviving\n"
      ]
    },
    {
      "cell_type": "code",
      "metadata": {
        "id": "dV1TewFesWLw",
        "colab_type": "code",
        "colab": {
          "base_uri": "https://localhost:8080/",
          "height": 173
        },
        "outputId": "0e66d818-4fa4-4e0a-a933-71c0672a12dc"
      },
      "source": [
        "pd.crosstab(train[\"Survived\"] , train['Sex'],margins=True,)"
      ],
      "execution_count": 92,
      "outputs": [
        {
          "output_type": "execute_result",
          "data": {
            "text/html": [
              "<div>\n",
              "<style scoped>\n",
              "    .dataframe tbody tr th:only-of-type {\n",
              "        vertical-align: middle;\n",
              "    }\n",
              "\n",
              "    .dataframe tbody tr th {\n",
              "        vertical-align: top;\n",
              "    }\n",
              "\n",
              "    .dataframe thead th {\n",
              "        text-align: right;\n",
              "    }\n",
              "</style>\n",
              "<table border=\"1\" class=\"dataframe\">\n",
              "  <thead>\n",
              "    <tr style=\"text-align: right;\">\n",
              "      <th>Sex</th>\n",
              "      <th>female</th>\n",
              "      <th>male</th>\n",
              "      <th>All</th>\n",
              "    </tr>\n",
              "    <tr>\n",
              "      <th>Survived</th>\n",
              "      <th></th>\n",
              "      <th></th>\n",
              "      <th></th>\n",
              "    </tr>\n",
              "  </thead>\n",
              "  <tbody>\n",
              "    <tr>\n",
              "      <th>0</th>\n",
              "      <td>81</td>\n",
              "      <td>468</td>\n",
              "      <td>549</td>\n",
              "    </tr>\n",
              "    <tr>\n",
              "      <th>1</th>\n",
              "      <td>233</td>\n",
              "      <td>109</td>\n",
              "      <td>342</td>\n",
              "    </tr>\n",
              "    <tr>\n",
              "      <th>All</th>\n",
              "      <td>314</td>\n",
              "      <td>577</td>\n",
              "      <td>891</td>\n",
              "    </tr>\n",
              "  </tbody>\n",
              "</table>\n",
              "</div>"
            ],
            "text/plain": [
              "Sex       female  male  All\n",
              "Survived                   \n",
              "0             81   468  549\n",
              "1            233   109  342\n",
              "All          314   577  891"
            ]
          },
          "metadata": {
            "tags": []
          },
          "execution_count": 92
        }
      ]
    },
    {
      "cell_type": "markdown",
      "metadata": {
        "id": "oa-aoFSltMhA",
        "colab_type": "text"
      },
      "source": [
        "From the above table, we can see that 74.20% of females got survived but only 18.90% males survived the sinking of Titanic.\n",
        "This trend of high survival rate for female and low survival rate for male passengers, is same in all three classes."
      ]
    },
    {
      "cell_type": "markdown",
      "metadata": {
        "id": "GJvwndTmrpbq",
        "colab_type": "text"
      },
      "source": [
        "## Visualize Survived and Not Survived with respect to the 'Embarked' Column:"
      ]
    },
    {
      "cell_type": "markdown",
      "metadata": {
        "id": "zXS2VC7B_2c4",
        "colab_type": "text"
      },
      "source": [
        "Embarked coulumn indicates the port in each passengers boarded the ship. In our dataset, we have three different values in this column: that is, Southampton, Cherbourg and Queenstown."
      ]
    },
    {
      "cell_type": "code",
      "metadata": {
        "id": "zaBD__7XCi4e",
        "colab_type": "code",
        "colab": {
          "base_uri": "https://localhost:8080/",
          "height": 142
        },
        "outputId": "86747131-d7ee-479c-e3f7-c5dd140c756f"
      },
      "source": [
        "train.Embarked.value_counts().to_frame()"
      ],
      "execution_count": 93,
      "outputs": [
        {
          "output_type": "execute_result",
          "data": {
            "text/html": [
              "<div>\n",
              "<style scoped>\n",
              "    .dataframe tbody tr th:only-of-type {\n",
              "        vertical-align: middle;\n",
              "    }\n",
              "\n",
              "    .dataframe tbody tr th {\n",
              "        vertical-align: top;\n",
              "    }\n",
              "\n",
              "    .dataframe thead th {\n",
              "        text-align: right;\n",
              "    }\n",
              "</style>\n",
              "<table border=\"1\" class=\"dataframe\">\n",
              "  <thead>\n",
              "    <tr style=\"text-align: right;\">\n",
              "      <th></th>\n",
              "      <th>Embarked</th>\n",
              "    </tr>\n",
              "  </thead>\n",
              "  <tbody>\n",
              "    <tr>\n",
              "      <th>S</th>\n",
              "      <td>644</td>\n",
              "    </tr>\n",
              "    <tr>\n",
              "      <th>C</th>\n",
              "      <td>168</td>\n",
              "    </tr>\n",
              "    <tr>\n",
              "      <th>Q</th>\n",
              "      <td>77</td>\n",
              "    </tr>\n",
              "  </tbody>\n",
              "</table>\n",
              "</div>"
            ],
            "text/plain": [
              "   Embarked\n",
              "S       644\n",
              "C       168\n",
              "Q        77"
            ]
          },
          "metadata": {
            "tags": []
          },
          "execution_count": 93
        }
      ]
    },
    {
      "cell_type": "markdown",
      "metadata": {
        "id": "JQ4aG-0PbJRm",
        "colab_type": "text"
      },
      "source": [
        "We can see that the most number of passengers embarked the journey from Southampton. That is 72.44% of the total number. "
      ]
    },
    {
      "cell_type": "code",
      "metadata": {
        "id": "-cSnI5p-rpbs",
        "colab_type": "code",
        "colab": {
          "base_uri": "https://localhost:8080/",
          "height": 497
        },
        "outputId": "56a6c081-da4e-4550-d7e5-951b06055bcd"
      },
      "source": [
        "plt.figure(figsize=(10,8))\n",
        "x = sns.countplot(x=\"Embarked\", hue=\"Survived\", data=train)\n",
        "plt.show()"
      ],
      "execution_count": 94,
      "outputs": [
        {
          "output_type": "display_data",
          "data": {
            "image/png": "[encoded data removed]",
            "text/plain": [
              "<Figure size 720x576 with 1 Axes>"
            ]
          },
          "metadata": {
            "tags": [],
            "needs_background": "light"
          }
        }
      ]
    },
    {
      "cell_type": "markdown",
      "metadata": {
        "id": "E_75x7oscop1",
        "colab_type": "text"
      },
      "source": [
        "Its visible from the graph that the most number of survived and the most number of not survived passengers are boarded from Southampton. Also the least number of survived and the least number of not survived passengers are boarded from Queenstown, which has the least percentage of embarkment(8.66%)."
      ]
    },
    {
      "cell_type": "code",
      "metadata": {
        "id": "taY5yCUWwFO1",
        "colab_type": "code",
        "colab": {
          "base_uri": "https://localhost:8080/",
          "height": 204
        },
        "outputId": "1a2d8af4-70ca-4a0e-8d5a-cef7d3854807"
      },
      "source": [
        "pd.crosstab(train.Embarked , train.Survived, margins=True)"
      ],
      "execution_count": 95,
      "outputs": [
        {
          "output_type": "execute_result",
          "data": {
            "text/html": [
              "<div>\n",
              "<style scoped>\n",
              "    .dataframe tbody tr th:only-of-type {\n",
              "        vertical-align: middle;\n",
              "    }\n",
              "\n",
              "    .dataframe tbody tr th {\n",
              "        vertical-align: top;\n",
              "    }\n",
              "\n",
              "    .dataframe thead th {\n",
              "        text-align: right;\n",
              "    }\n",
              "</style>\n",
              "<table border=\"1\" class=\"dataframe\">\n",
              "  <thead>\n",
              "    <tr style=\"text-align: right;\">\n",
              "      <th>Survived</th>\n",
              "      <th>0</th>\n",
              "      <th>1</th>\n",
              "      <th>All</th>\n",
              "    </tr>\n",
              "    <tr>\n",
              "      <th>Embarked</th>\n",
              "      <th></th>\n",
              "      <th></th>\n",
              "      <th></th>\n",
              "    </tr>\n",
              "  </thead>\n",
              "  <tbody>\n",
              "    <tr>\n",
              "      <th>C</th>\n",
              "      <td>75</td>\n",
              "      <td>93</td>\n",
              "      <td>168</td>\n",
              "    </tr>\n",
              "    <tr>\n",
              "      <th>Q</th>\n",
              "      <td>47</td>\n",
              "      <td>30</td>\n",
              "      <td>77</td>\n",
              "    </tr>\n",
              "    <tr>\n",
              "      <th>S</th>\n",
              "      <td>427</td>\n",
              "      <td>217</td>\n",
              "      <td>644</td>\n",
              "    </tr>\n",
              "    <tr>\n",
              "      <th>All</th>\n",
              "      <td>549</td>\n",
              "      <td>340</td>\n",
              "      <td>889</td>\n",
              "    </tr>\n",
              "  </tbody>\n",
              "</table>\n",
              "</div>"
            ],
            "text/plain": [
              "Survived    0    1  All\n",
              "Embarked               \n",
              "C          75   93  168\n",
              "Q          47   30   77\n",
              "S         427  217  644\n",
              "All       549  340  889"
            ]
          },
          "metadata": {
            "tags": []
          },
          "execution_count": 95
        }
      ]
    },
    {
      "cell_type": "markdown",
      "metadata": {
        "id": "iPKTXMBU8zSw",
        "colab_type": "text"
      },
      "source": [
        "We can also see that Except Queenstown, number of survived is less than number of not survived."
      ]
    },
    {
      "cell_type": "markdown",
      "metadata": {
        "id": "dnRiT7gXrpbw",
        "colab_type": "text"
      },
      "source": [
        "## Plot a Desnity Graph based on Fare and Survival Rate:"
      ]
    },
    {
      "cell_type": "code",
      "metadata": {
        "id": "4KG1RIDvrpbx",
        "colab_type": "code",
        "colab": {
          "base_uri": "https://localhost:8080/",
          "height": 585
        },
        "outputId": "0d2d078a-5313-435f-840d-1baae74e3193"
      },
      "source": [
        "t5 = sns.FacetGrid(train, col='Survived',height=8)\n",
        "t5.map(plt.hist, 'Fare', bins=30)\n",
        "t5.set_ylabels('Number');"
      ],
      "execution_count": 96,
      "outputs": [
        {
          "output_type": "display_data",
          "data": {
            "image/png": "[encoded data removed]",
            "text/plain": [
              "<Figure size 1152x576 with 2 Axes>"
            ]
          },
          "metadata": {
            "tags": [],
            "needs_background": "light"
          }
        }
      ]
    },
    {
      "cell_type": "markdown",
      "metadata": {
        "id": "BeHzckQMrpb0",
        "colab_type": "text"
      },
      "source": [
        "## Plot a Distplot based on Fare and Survival Rate:"
      ]
    },
    {
      "cell_type": "code",
      "metadata": {
        "id": "Q3rMZ5l9rBW2",
        "colab_type": "code",
        "colab": {
          "base_uri": "https://localhost:8080/",
          "height": 592
        },
        "outputId": "a6dfca99-a0fd-4454-8cec-eed0925cc892"
      },
      "source": [
        "t4=pd.DataFrame(pd.crosstab(train['Survived'] , train['Fare'],margins=True))\n",
        "plt.figure(figsize=(10,10))\n",
        "sns.distplot(t4,rug=True,hist=False,color='red',);"
      ],
      "execution_count": 97,
      "outputs": [
        {
          "output_type": "display_data",
          "data": {
            "image/png": "[encoded data removed]",
            "text/plain": [
              "<Figure size 720x720 with 1 Axes>"
            ]
          },
          "metadata": {
            "tags": [],
            "needs_background": "light"
          }
        }
      ]
    },
    {
      "cell_type": "markdown",
      "metadata": {
        "id": "lbHiZZczrpb9",
        "colab_type": "text"
      },
      "source": [
        "## How are \"Age\" and \"Fare\" Columns related? Plot a Graph for the same:"
      ]
    },
    {
      "cell_type": "code",
      "metadata": {
        "id": "2WYnYAnCrpb9",
        "colab_type": "code",
        "colab": {
          "base_uri": "https://localhost:8080/",
          "height": 388
        },
        "outputId": "91cd6897-1552-4bcb-df1b-1447dc1cbc7d"
      },
      "source": [
        "train.plot(x='Age',y='Fare',kind='scatter', figsize = (9,6));"
      ],
      "execution_count": 98,
      "outputs": [
        {
          "output_type": "display_data",
          "data": {
            "image/png": "[encoded data removed]",
            "text/plain": [
              "<Figure size 648x432 with 1 Axes>"
            ]
          },
          "metadata": {
            "tags": [],
            "needs_background": "light"
          }
        }
      ]
    },
    {
      "cell_type": "code",
      "metadata": {
        "id": "yyJ4AZ3cOdG7",
        "colab_type": "code",
        "colab": {
          "base_uri": "https://localhost:8080/",
          "height": 251
        },
        "outputId": "cd0fe1f0-da12-4dba-c845-0f844f59c3f7"
      },
      "source": [
        "train.query('Fare<50 & Age<50').count()"
      ],
      "execution_count": 99,
      "outputs": [
        {
          "output_type": "execute_result",
          "data": {
            "text/plain": [
              "PassengerId    527\n",
              "Survived       527\n",
              "Pclass         527\n",
              "Name           527\n",
              "Sex            527\n",
              "Age            527\n",
              "SibSp          527\n",
              "Parch          527\n",
              "Ticket         527\n",
              "Fare           527\n",
              "Cabin           56\n",
              "Embarked       527\n",
              "dtype: int64"
            ]
          },
          "metadata": {
            "tags": []
          },
          "execution_count": 99
        }
      ]
    },
    {
      "cell_type": "markdown",
      "metadata": {
        "id": "YxNWbXcXOSnT",
        "colab_type": "text"
      },
      "source": [
        "We can see that most of the passengers who have age less than 50 and have ticket fare less than 50$."
      ]
    },
    {
      "cell_type": "code",
      "metadata": {
        "id": "PBedQgLoJn_n",
        "colab_type": "code",
        "colab": {
          "base_uri": "https://localhost:8080/",
          "height": 266
        },
        "outputId": "a743a6b7-7eec-4f77-b724-a7db59a20780"
      },
      "source": [
        "train['Age_bracket']=pd.cut(train['Age'],bins=[0,20,30,40,50,60,70,np.inf],labels=['0-20','20-30','30-40','40-50','50-60','60-70','70+'])\n",
        "train['Age_bracket'].value_counts(dropna=True).to_frame().sort_index()"
      ],
      "execution_count": 100,
      "outputs": [
        {
          "output_type": "execute_result",
          "data": {
            "text/html": [
              "<div>\n",
              "<style scoped>\n",
              "    .dataframe tbody tr th:only-of-type {\n",
              "        vertical-align: middle;\n",
              "    }\n",
              "\n",
              "    .dataframe tbody tr th {\n",
              "        vertical-align: top;\n",
              "    }\n",
              "\n",
              "    .dataframe thead th {\n",
              "        text-align: right;\n",
              "    }\n",
              "</style>\n",
              "<table border=\"1\" class=\"dataframe\">\n",
              "  <thead>\n",
              "    <tr style=\"text-align: right;\">\n",
              "      <th></th>\n",
              "      <th>Age_bracket</th>\n",
              "    </tr>\n",
              "  </thead>\n",
              "  <tbody>\n",
              "    <tr>\n",
              "      <th>0-20</th>\n",
              "      <td>179</td>\n",
              "    </tr>\n",
              "    <tr>\n",
              "      <th>20-30</th>\n",
              "      <td>230</td>\n",
              "    </tr>\n",
              "    <tr>\n",
              "      <th>30-40</th>\n",
              "      <td>155</td>\n",
              "    </tr>\n",
              "    <tr>\n",
              "      <th>40-50</th>\n",
              "      <td>86</td>\n",
              "    </tr>\n",
              "    <tr>\n",
              "      <th>50-60</th>\n",
              "      <td>42</td>\n",
              "    </tr>\n",
              "    <tr>\n",
              "      <th>60-70</th>\n",
              "      <td>17</td>\n",
              "    </tr>\n",
              "    <tr>\n",
              "      <th>70+</th>\n",
              "      <td>5</td>\n",
              "    </tr>\n",
              "  </tbody>\n",
              "</table>\n",
              "</div>"
            ],
            "text/plain": [
              "       Age_bracket\n",
              "0-20           179\n",
              "20-30          230\n",
              "30-40          155\n",
              "40-50           86\n",
              "50-60           42\n",
              "60-70           17\n",
              "70+              5"
            ]
          },
          "metadata": {
            "tags": []
          },
          "execution_count": 100
        }
      ]
    },
    {
      "cell_type": "code",
      "metadata": {
        "id": "sHUC0uaXM9MZ",
        "colab_type": "code",
        "colab": {
          "base_uri": "https://localhost:8080/",
          "height": 408
        },
        "outputId": "bafdb28c-ce00-47f9-d9f4-e9509bdbede1"
      },
      "source": [
        "train.groupby('Age_bracket')['Fare'].mean().plot(kind='bar', figsize = (9,6));"
      ],
      "execution_count": 101,
      "outputs": [
        {
          "output_type": "display_data",
          "data": {
            "image/png": "[encoded data removed]",
            "text/plain": [
              "<Figure size 648x432 with 1 Axes>"
            ]
          },
          "metadata": {
            "tags": [],
            "needs_background": "light"
          }
        }
      ]
    },
    {
      "cell_type": "markdown",
      "metadata": {
        "id": "moEk2qtvRM3J",
        "colab_type": "text"
      },
      "source": [
        "The bar graph represents the mean fare for all the age brackets. Passengers within age bracket 60-70 have the highest mean fare and 70+ have the lowest mean fare."
      ]
    },
    {
      "cell_type": "markdown",
      "metadata": {
        "id": "QqvIGmRgrpcA",
        "colab_type": "text"
      },
      "source": [
        "# Multivariate EDA:"
      ]
    },
    {
      "cell_type": "markdown",
      "metadata": {
        "id": "LMbX964lrpcB",
        "colab_type": "text"
      },
      "source": [
        "## Does Age have an impact on Survival Rate for each Sex and Class group?\n",
        "We can see the age distribution of passengers and survived with respect to gender.\n",
        "\n"
      ]
    },
    {
      "cell_type": "code",
      "metadata": {
        "id": "IUACS_1Abl4y",
        "colab_type": "code",
        "colab": {
          "base_uri": "https://localhost:8080/",
          "height": 497
        },
        "outputId": "f0572116-bbe8-49c6-8193-ece063b9d014"
      },
      "source": [
        "plt.figure(figsize=(8,8))\n",
        "sns.stripplot(data =train,x='Survived',y='Age',hue='Sex');"
      ],
      "execution_count": 102,
      "outputs": [
        {
          "output_type": "display_data",
          "data": {
            "image/png": "[encoded data removed]",
            "text/plain": [
              "<Figure size 576x576 with 1 Axes>"
            ]
          },
          "metadata": {
            "tags": [],
            "needs_background": "light"
          }
        }
      ]
    },
    {
      "cell_type": "markdown",
      "metadata": {
        "id": "Rk35H5PGeW3B",
        "colab_type": "text"
      },
      "source": [
        "It is very clear that Females survived the most and most passengers survived within the age 10 to 40. Passengers who not survived are within the age 15 to 45.\n",
        "Lets look into it more deeply by adding Class of the passengers in the plot."
      ]
    },
    {
      "cell_type": "code",
      "metadata": {
        "id": "EtleqpX1dYNu",
        "colab_type": "code",
        "colab": {
          "base_uri": "https://localhost:8080/",
          "height": 513
        },
        "outputId": "9da57f40-ad05-402b-c54c-8b749231a77f"
      },
      "source": [
        "mul = sns.catplot(x=\"Sex\", y=\"Age\", hue=\"Survived\", col=\"Pclass\", data=train, kind=\"strip\", height=7, aspect=.8)"
      ],
      "execution_count": 103,
      "outputs": [
        {
          "output_type": "display_data",
          "data": {
            "image/png": "[encoded data removed]",
            "text/plain": [
              "<Figure size 1261.47x504 with 3 Axes>"
            ]
          },
          "metadata": {
            "tags": [],
            "needs_background": "light"
          }
        }
      ]
    },
    {
      "cell_type": "markdown",
      "metadata": {
        "id": "zMSQD51kgjrj",
        "colab_type": "text"
      },
      "source": [
        "Its getting more evident that females survived the most in each classes. Except in 3rd class, the number of not survived female passengers are negligibly small. \n",
        "\n",
        "class 1 --> 3 females not survived\n",
        "\n",
        "class 2 --> 6 females not survived\n",
        "\n",
        "class 3 --> 55 females not survived"
      ]
    },
    {
      "cell_type": "markdown",
      "metadata": {
        "id": "2hqhZZmijXXO",
        "colab_type": "text"
      },
      "source": [
        "Age and survival rate has no visible impact on any gender or class."
      ]
    },
    {
      "cell_type": "code",
      "metadata": {
        "id": "UFEOKYcAajNs",
        "colab_type": "code",
        "colab": {
          "base_uri": "https://localhost:8080/",
          "height": 266
        },
        "outputId": "bbc91ebb-73ed-44bd-f26f-eec09019239b"
      },
      "source": [
        "pd.crosstab([train.Sex, train.Survived], [train.Age_bracket, train.Pclass], margins=True)"
      ],
      "execution_count": 104,
      "outputs": [
        {
          "output_type": "execute_result",
          "data": {
            "text/html": [
              "<div>\n",
              "<style scoped>\n",
              "    .dataframe tbody tr th:only-of-type {\n",
              "        vertical-align: middle;\n",
              "    }\n",
              "\n",
              "    .dataframe tbody tr th {\n",
              "        vertical-align: top;\n",
              "    }\n",
              "\n",
              "    .dataframe thead tr th {\n",
              "        text-align: left;\n",
              "    }\n",
              "\n",
              "    .dataframe thead tr:last-of-type th {\n",
              "        text-align: right;\n",
              "    }\n",
              "</style>\n",
              "<table border=\"1\" class=\"dataframe\">\n",
              "  <thead>\n",
              "    <tr>\n",
              "      <th></th>\n",
              "      <th>Age_bracket</th>\n",
              "      <th colspan=\"3\" halign=\"left\">0-20</th>\n",
              "      <th colspan=\"3\" halign=\"left\">20-30</th>\n",
              "      <th colspan=\"3\" halign=\"left\">30-40</th>\n",
              "      <th colspan=\"3\" halign=\"left\">40-50</th>\n",
              "      <th colspan=\"3\" halign=\"left\">50-60</th>\n",
              "      <th colspan=\"3\" halign=\"left\">60-70</th>\n",
              "      <th colspan=\"2\" halign=\"left\">70+</th>\n",
              "      <th>All</th>\n",
              "    </tr>\n",
              "    <tr>\n",
              "      <th></th>\n",
              "      <th>Pclass</th>\n",
              "      <th>1</th>\n",
              "      <th>2</th>\n",
              "      <th>3</th>\n",
              "      <th>1</th>\n",
              "      <th>2</th>\n",
              "      <th>3</th>\n",
              "      <th>1</th>\n",
              "      <th>2</th>\n",
              "      <th>3</th>\n",
              "      <th>1</th>\n",
              "      <th>2</th>\n",
              "      <th>3</th>\n",
              "      <th>1</th>\n",
              "      <th>2</th>\n",
              "      <th>3</th>\n",
              "      <th>1</th>\n",
              "      <th>2</th>\n",
              "      <th>3</th>\n",
              "      <th>1</th>\n",
              "      <th>3</th>\n",
              "      <th></th>\n",
              "    </tr>\n",
              "    <tr>\n",
              "      <th>Sex</th>\n",
              "      <th>Survived</th>\n",
              "      <th></th>\n",
              "      <th></th>\n",
              "      <th></th>\n",
              "      <th></th>\n",
              "      <th></th>\n",
              "      <th></th>\n",
              "      <th></th>\n",
              "      <th></th>\n",
              "      <th></th>\n",
              "      <th></th>\n",
              "      <th></th>\n",
              "      <th></th>\n",
              "      <th></th>\n",
              "      <th></th>\n",
              "      <th></th>\n",
              "      <th></th>\n",
              "      <th></th>\n",
              "      <th></th>\n",
              "      <th></th>\n",
              "      <th></th>\n",
              "      <th></th>\n",
              "    </tr>\n",
              "  </thead>\n",
              "  <tbody>\n",
              "    <tr>\n",
              "      <th rowspan=\"2\" valign=\"top\">female</th>\n",
              "      <th>0</th>\n",
              "      <td>1</td>\n",
              "      <td>0</td>\n",
              "      <td>23</td>\n",
              "      <td>1</td>\n",
              "      <td>3</td>\n",
              "      <td>16</td>\n",
              "      <td>0</td>\n",
              "      <td>1</td>\n",
              "      <td>8</td>\n",
              "      <td>1</td>\n",
              "      <td>1</td>\n",
              "      <td>8</td>\n",
              "      <td>0</td>\n",
              "      <td>1</td>\n",
              "      <td>0</td>\n",
              "      <td>0</td>\n",
              "      <td>0</td>\n",
              "      <td>0</td>\n",
              "      <td>0</td>\n",
              "      <td>0</td>\n",
              "      <td>64</td>\n",
              "    </tr>\n",
              "    <tr>\n",
              "      <th>1</th>\n",
              "      <td>13</td>\n",
              "      <td>16</td>\n",
              "      <td>24</td>\n",
              "      <td>20</td>\n",
              "      <td>25</td>\n",
              "      <td>16</td>\n",
              "      <td>24</td>\n",
              "      <td>16</td>\n",
              "      <td>6</td>\n",
              "      <td>12</td>\n",
              "      <td>9</td>\n",
              "      <td>0</td>\n",
              "      <td>11</td>\n",
              "      <td>2</td>\n",
              "      <td>0</td>\n",
              "      <td>2</td>\n",
              "      <td>0</td>\n",
              "      <td>1</td>\n",
              "      <td>0</td>\n",
              "      <td>0</td>\n",
              "      <td>197</td>\n",
              "    </tr>\n",
              "    <tr>\n",
              "      <th rowspan=\"2\" valign=\"top\">male</th>\n",
              "      <th>0</th>\n",
              "      <td>3</td>\n",
              "      <td>9</td>\n",
              "      <td>61</td>\n",
              "      <td>10</td>\n",
              "      <td>33</td>\n",
              "      <td>83</td>\n",
              "      <td>12</td>\n",
              "      <td>23</td>\n",
              "      <td>42</td>\n",
              "      <td>15</td>\n",
              "      <td>8</td>\n",
              "      <td>20</td>\n",
              "      <td>10</td>\n",
              "      <td>9</td>\n",
              "      <td>5</td>\n",
              "      <td>9</td>\n",
              "      <td>2</td>\n",
              "      <td>2</td>\n",
              "      <td>2</td>\n",
              "      <td>2</td>\n",
              "      <td>360</td>\n",
              "    </tr>\n",
              "    <tr>\n",
              "      <th>1</th>\n",
              "      <td>4</td>\n",
              "      <td>10</td>\n",
              "      <td>15</td>\n",
              "      <td>9</td>\n",
              "      <td>0</td>\n",
              "      <td>14</td>\n",
              "      <td>13</td>\n",
              "      <td>3</td>\n",
              "      <td>7</td>\n",
              "      <td>9</td>\n",
              "      <td>1</td>\n",
              "      <td>2</td>\n",
              "      <td>4</td>\n",
              "      <td>0</td>\n",
              "      <td>0</td>\n",
              "      <td>0</td>\n",
              "      <td>1</td>\n",
              "      <td>0</td>\n",
              "      <td>1</td>\n",
              "      <td>0</td>\n",
              "      <td>93</td>\n",
              "    </tr>\n",
              "    <tr>\n",
              "      <th>All</th>\n",
              "      <th></th>\n",
              "      <td>21</td>\n",
              "      <td>35</td>\n",
              "      <td>123</td>\n",
              "      <td>40</td>\n",
              "      <td>61</td>\n",
              "      <td>129</td>\n",
              "      <td>49</td>\n",
              "      <td>43</td>\n",
              "      <td>63</td>\n",
              "      <td>37</td>\n",
              "      <td>19</td>\n",
              "      <td>30</td>\n",
              "      <td>25</td>\n",
              "      <td>12</td>\n",
              "      <td>5</td>\n",
              "      <td>11</td>\n",
              "      <td>3</td>\n",
              "      <td>3</td>\n",
              "      <td>3</td>\n",
              "      <td>2</td>\n",
              "      <td>714</td>\n",
              "    </tr>\n",
              "  </tbody>\n",
              "</table>\n",
              "</div>"
            ],
            "text/plain": [
              "Age_bracket     0-20          20-30          30-40  ... 50-60 60-70       70+     All\n",
              "Pclass             1   2    3     1   2    3     1  ...     3     1  2  3   1  3     \n",
              "Sex    Survived                                     ...                              \n",
              "female 0           1   0   23     1   3   16     0  ...     0     0  0  0   0  0   64\n",
              "       1          13  16   24    20  25   16    24  ...     0     2  0  1   0  0  197\n",
              "male   0           3   9   61    10  33   83    12  ...     5     9  2  2   2  2  360\n",
              "       1           4  10   15     9   0   14    13  ...     0     0  1  0   1  0   93\n",
              "All               21  35  123    40  61  129    49  ...     5    11  3  3   3  2  714\n",
              "\n",
              "[5 rows x 21 columns]"
            ]
          },
          "metadata": {
            "tags": []
          },
          "execution_count": 104
        }
      ]
    },
    {
      "cell_type": "markdown",
      "metadata": {
        "id": "_8-1yYSqrpcK",
        "colab_type": "text"
      },
      "source": [
        "## Plot a HEATMAP showing the correlations between different features:"
      ]
    },
    {
      "cell_type": "code",
      "metadata": {
        "id": "1ctLJ-jwrpcL",
        "colab_type": "code",
        "colab": {
          "base_uri": "https://localhost:8080/",
          "height": 596
        },
        "outputId": "3da038ad-4975-40bb-c309-bf1af0b64f79"
      },
      "source": [
        "plt.figure(figsize=(12,10))\n",
        "sns.heatmap(train.corr(),annot=True,)\n",
        "plt.show()"
      ],
      "execution_count": 105,
      "outputs": [
        {
          "output_type": "display_data",
          "data": {
            "image/png": "[encoded data removed]",
            "text/plain": [
              "<Figure size 864x720 with 2 Axes>"
            ]
          },
          "metadata": {
            "tags": [],
            "needs_background": "light"
          }
        }
      ]
    },
    {
      "cell_type": "markdown",
      "metadata": {
        "id": "8r5kFGKmm9_2",
        "colab_type": "text"
      },
      "source": [
        "We can see a high negative correlation between Fare and Pclass, Survived and Pclass.\n",
        "And positive correlation between Fare and survived."
      ]
    },
    {
      "cell_type": "markdown",
      "metadata": {
        "id": "Yv62UDx6rpcN",
        "colab_type": "text"
      },
      "source": [
        "# Conclusion"
      ]
    },
    {
      "cell_type": "markdown",
      "metadata": {
        "id": "eaP4AsL1n4u7",
        "colab_type": "text"
      },
      "source": [
        ">From the preliminary analysis we conclude that,\n",
        "1. The most number of passengers travelled in 3rd class\n",
        "2. Even though Males are the majority(65%), Females have the high number of survived passengers.\n",
        "3. Most of the passengers travelled with a ticket fare of 100$.\n",
        "4. Majority of passengers boarded from Southampton\n",
        "\n",
        "When comparing the the survival with respect to gender and class, we can say that females have the highest count of surviving, and\n",
        "males have the highest count of not surviving.74.20% of females survived while only 18.90% males survived the sinking of Titanic. The most number of survived and the most number of not survived passengers are boarded from Southampton. Also the least number of survived and the least number of not survived passengers are boarded from Queenstown. Most passengers survived within the age 10 to 40. Passengers who not survived are within the age 15 to 45. Female passengers and higher class passengers have the highest surviving rate. "
      ]
    }
  ]
}